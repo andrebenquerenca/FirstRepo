{
 "cells": [
  {
   "cell_type": "markdown",
   "id": "4a649a8a",
   "metadata": {},
   "source": [
    "# My Final Assigment\n"
   ]
  },
  {
   "cell_type": "markdown",
   "id": "21ac36ea",
   "metadata": {},
   "source": [
    "###### This will be my Jupyter notebook with the required exercises"
   ]
  },
  {
   "cell_type": "markdown",
   "id": "beeba92f",
   "metadata": {},
   "source": [
    "### Data science languages:\n",
    "    Python\n",
    "    R\n",
    "    Java\n",
    "    Julia\n",
    "    SQL\n",
    "    Scala\n",
    "    JavaScript\n",
    "    C++\n",
    "    Apache MLlib\n",
    "    Weka"
   ]
  },
  {
   "cell_type": "markdown",
   "id": "d5821d36",
   "metadata": {},
   "source": [
    "### Data science libraries:\n",
    "    TensorFLow\n",
    "    Numpy\n",
    "    Pycharm\n",
    "    Pandas\n",
    "    Matplotlib\n",
    "    ggplot2\n",
    "    Lattice\n",
    "    Seaborn\n",
    "    Scikit-learn\n",
    "    Keras\n",
    "    Pytorch"
   ]
  },
  {
   "cell_type": "markdown",
   "id": "12740381",
   "metadata": {},
   "source": [
    "# Data Science Tools Table\n",
    "\n",
    "| Data Management Tools | Data Integration and Transformation Tools | Data Visualization Tools |\n",
    "|-----------------|-----------------------------------|-------------------|\n",
    "| MySQL           | Apache Airflow                    | Cognos Analytics   |\n",
    "| MongoDB         | Apache Kafka                      | Tableau           |\n",
    "| Apache Spark    | none                              | PowerBI           |\n"
   ]
  },
  {
   "cell_type": "markdown",
   "id": "c4378675",
   "metadata": {},
   "source": [
    "## Arithmetic Expression Examples\n",
    "\n",
    "Arithmetic expressions are mathematical expressions that involve numerical operations such as addition, subtraction, multiplication, and division. These expressions are commonly used in programming and mathematics to perform calculations.\n",
    "\n",
    "Here are some examples of arithmetic expressions:\n",
    "\n",
    "1. Addition:"
   ]
  },
  {
   "cell_type": "code",
   "execution_count": 19,
   "id": "d5e14be1",
   "metadata": {},
   "outputs": [
    {
     "data": {
      "text/plain": [
       "4"
      ]
     },
     "execution_count": 19,
     "metadata": {},
     "output_type": "execute_result"
    }
   ],
   "source": [
    "2+2"
   ]
  },
  {
   "cell_type": "markdown",
   "id": "37ffdb69",
   "metadata": {},
   "source": [
    "2. Subtraction:"
   ]
  },
  {
   "cell_type": "code",
   "execution_count": 21,
   "id": "29e203d2",
   "metadata": {},
   "outputs": [
    {
     "data": {
      "text/plain": [
       "3"
      ]
     },
     "execution_count": 21,
     "metadata": {},
     "output_type": "execute_result"
    }
   ],
   "source": [
    "5-2"
   ]
  },
  {
   "cell_type": "markdown",
   "id": "98b2cbd1",
   "metadata": {},
   "source": [
    "3. Multiplication:"
   ]
  },
  {
   "cell_type": "code",
   "execution_count": 22,
   "id": "37e1ea0a",
   "metadata": {},
   "outputs": [
    {
     "data": {
      "text/plain": [
       "400"
      ]
     },
     "execution_count": 22,
     "metadata": {},
     "output_type": "execute_result"
    }
   ],
   "source": [
    "10*40"
   ]
  },
  {
   "cell_type": "code",
   "execution_count": 23,
   "id": "643d8a3d",
   "metadata": {},
   "outputs": [
    {
     "name": "stdout",
     "output_type": "stream",
     "text": [
      "Result of multiplication: 50\n",
      "Result of addition: 35\n"
     ]
    }
   ],
   "source": [
    "# Multiply two numbers\n",
    "num1 = 5\n",
    "num2 = 10\n",
    "result_multiply = num1 * num2\n",
    "\n",
    "# Add two numbers\n",
    "num3 = 15\n",
    "num4 = 20\n",
    "result_add = num3 + num4\n",
    "\n",
    "# Print the results\n",
    "print(\"Result of multiplication:\", result_multiply)\n",
    "print(\"Result of addition:\", result_add)\n"
   ]
  },
  {
   "cell_type": "code",
   "execution_count": 24,
   "id": "0e8a9dec",
   "metadata": {},
   "outputs": [
    {
     "name": "stdout",
     "output_type": "stream",
     "text": [
      "135 minutes is equal to 2.25 hours\n"
     ]
    }
   ],
   "source": [
    "# Input minutes\n",
    "minutes = 135\n",
    "\n",
    "# Convert minutes to hours\n",
    "hours = minutes / 60\n",
    "\n",
    "# Print the result\n",
    "print(f\"{minutes} minutes is equal to {hours:.2f} hours\")"
   ]
  },
  {
   "cell_type": "markdown",
   "id": "fdf219c9",
   "metadata": {},
   "source": [
    "# Objectives:\n",
    "    Understand the Data Science Task Categories.\n",
    "    Explore various Data Science Tools and Libraries.\n",
    "    Learn about Data Visualization and its importance.\n",
    "    Gain knowledge about different Machine Learning Models.\n",
    "    Get familiar with Deep Learning and its applications.\n",
    "    Explore open data sources and their significance in Data Science.\n",
    "    Understand the concept of Model Deployment and Monitoring.\n",
    "    Learn about version control and collaboration using Git and GitHub.\n",
    "    Explore the use of Jupyter Notebooks and Google Colab for data analysis.\n",
    "    Understand how to work with APIs and integrate them into projects.\n",
    "    Explore popular Data Science languages like Python and R.\n",
    "    These objectives will guide us through the course and help us achieve a comprehensive understanding of Data Science concepts and tools."
   ]
  },
  {
   "cell_type": "markdown",
   "id": "bd73f6c9",
   "metadata": {},
   "source": [
    "# My name is André Benquerença"
   ]
  }
 ],
 "metadata": {
  "kernelspec": {
   "display_name": "Python 3 (ipykernel)",
   "language": "python",
   "name": "python3"
  },
  "language_info": {
   "codemirror_mode": {
    "name": "ipython",
    "version": 3
   },
   "file_extension": ".py",
   "mimetype": "text/x-python",
   "name": "python",
   "nbconvert_exporter": "python",
   "pygments_lexer": "ipython3",
   "version": "3.11.4"
  }
 },
 "nbformat": 4,
 "nbformat_minor": 5
}
